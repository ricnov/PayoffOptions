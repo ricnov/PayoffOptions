{
 "cells": [
  {
   "cell_type": "code",
   "execution_count": 1,
   "metadata": {},
   "outputs": [],
   "source": [
    "import pylab as pl\n",
    "import numpy as np"
   ]
  },
  {
   "cell_type": "code",
   "execution_count": 2,
   "metadata": {},
   "outputs": [],
   "source": [
    "s0 = 20                  # initial stock price\n",
    "sT = np.arange(0,s0*2,5) # stock price at expiration\n",
    "k = 10                   # strike price of the options"
   ]
  },
  {
   "cell_type": "code",
   "execution_count": 3,
   "metadata": {},
   "outputs": [],
   "source": [
    "y1 = np.where(sT > k,(sT-k),0) # payoff from the call option\n",
    "y2 = np.where(sT < k,(k-sT),0) #   \"     \"   the put option\n",
    "cash = np.zeros(len(sT))+k     # cash at expiration"
   ]
  },
  {
   "cell_type": "code",
   "execution_count": 4,
   "metadata": {},
   "outputs": [],
   "source": [
    "def graph (text,text2=''):\n",
    "    pl.xticks(())\n",
    "    pl.yticks(())\n",
    "    pl.xlim(0,20)\n",
    "    pl.ylim(0,20)\n",
    "    pl.plot([k,k],[0,3])\n",
    "    pl.text(k,0,'X')\n",
    "    pl.text(0,k,'X')\n",
    "    pl.text(k,k*1.7,text, ha='center', va='center', size=10, alpha=.5)\n",
    "    pl.text(-3.5,10,text2,size=16)"
   ]
  },
  {
   "cell_type": "code",
   "execution_count": 9,
   "metadata": {},
   "outputs": [
    {
     "data": {
      "image/png": "[encoded data removed]",
      "text/plain": [
       "<Figure size 432x288 with 6 Axes>"
      ]
     },
     "metadata": {},
     "output_type": "display_data"
    }
   ],
   "source": [
    "pl.figure(figsize=(6,4))\n",
    "pl.subplot(2,3,1); graph('Payoff of call');   pl.plot(sT,y1)\n",
    "pl.subplot(2,3,2); graph('Cash','+');         pl.plot(sT,cash)\n",
    "pl.subplot(2,3,3); graph('Portofolio A','='); pl.plot(sT,cash+y1)\n",
    "pl.subplot(2,3,4); graph('Payoff of put');    pl.plot(sT,y2)\n",
    "pl.subplot(2,3,5); graph('Stock','+');        pl.plot(sT,sT)\n",
    "pl.subplot(2,3,6); graph('Portfolio B','=');  pl.plot(sT,sT+y2)\n",
    "pl.show()"
   ]
  },
  {
   "cell_type": "code",
   "execution_count": null,
   "metadata": {},
   "outputs": [],
   "source": []
  }
 ],
 "metadata": {
  "kernelspec": {
   "display_name": "Python 3",
   "language": "python",
   "name": "python3"
  },
  "language_info": {
   "codemirror_mode": {
    "name": "ipython",
    "version": 3
   },
   "file_extension": ".py",
   "mimetype": "text/x-python",
   "name": "python",
   "nbconvert_exporter": "python",
   "pygments_lexer": "ipython3",
   "version": "3.7.6"
  }
 },
 "nbformat": 4,
 "nbformat_minor": 2
}
